{
 "cells": [
  {
   "cell_type": "markdown",
   "id": "04dc2720-8cb4-476b-bb11-499c80549840",
   "metadata": {},
   "source": [
    "# Домашняя работа №3:  Межъязыковое выравнивание токенов"
   ]
  },
  {
   "cell_type": "markdown",
   "id": "660c40af-2598-4c73-8eb7-c60bbf603ec3",
   "metadata": {
    "jp-MarkdownHeadingCollapsed": true
   },
   "source": [
    "## Часть 1. Базовая версия модели\n",
    "\n",
    "Здесь описана базовая версия модели"
   ]
  },
  {
   "cell_type": "markdown",
   "id": "010794d3-5758-40fc-9202-eeba5480ee93",
   "metadata": {
    "jp-MarkdownHeadingCollapsed": true
   },
   "source": [
    "### 1.1 Файлы\n",
    "Файлы базовой версии модели:\n",
    "- [../model_v01/models.py](../model_v01/models.py)\n",
    "- [../model_v01/word_alignment.py](../model_v01/word_alignment.py)\n",
    "- [../model_v01/README.MD](../model_v01/README.MD)"
   ]
  },
  {
   "cell_type": "markdown",
   "id": "0677d21f-221b-491f-91aa-901158f51fd6",
   "metadata": {
    "jp-MarkdownHeadingCollapsed": true
   },
   "source": [
    "### 1.2 Обучение\n",
    "\n",
    "Трассировка обучения модели:\n",
    "```bash\n",
    "fatuus@ubuntu22:~/advanced-nlp/hw03$ ve/bin/python ./model_v01/word_alignment.py training/en-cs.en.all.tokens.10K training/en-cs.cs.all.tokens.10K 20 mdl01\n",
    "corpus log likelihood: -1128588.931\n",
    "corpus log likelihood: -956694.700\n",
    "corpus log likelihood: -848517.221\n",
    "corpus log likelihood: -794720.656\n",
    "corpus log likelihood: -769747.233\n",
    "corpus log likelihood: -757520.473\n",
    "corpus log likelihood: -750849.559\n",
    "corpus log likelihood: -746825.267\n",
    "corpus log likelihood: -744210.342\n",
    "corpus log likelihood: -742406.482\n",
    "corpus log likelihood: -741092.232\n",
    "corpus log likelihood: -740108.421\n",
    "corpus log likelihood: -739350.347\n",
    "corpus log likelihood: -738750.718\n",
    "corpus log likelihood: -738261.801\n",
    "corpus log likelihood: -737860.049\n",
    "corpus log likelihood: -737529.345\n",
    "corpus log likelihood: -737255.340\n",
    "corpus log likelihood: -737018.021\n",
    "fatuus@ubuntu22:~/advanced-nlp/hw03$\n",
    "```\n"
   ]
  },
  {
   "cell_type": "markdown",
   "id": "0a4d75f4-e6c9-4670-9758-d5360e53c728",
   "metadata": {},
   "source": [
    "### 1.3 Оценка на обучающей выборке\n",
    "```bash\n",
    "fatuus@ubuntu22:~/advanced-nlp/hw03$ ./ve/bin/python eval.py ./test/en-cs.en.dev.tokens ./test/en-cs.cs.dev.lemmas ./test/en-cs.wa.dev ./mdl01.dev.wa\n",
    "recall 0.470; precision 0.502; aer 0.514\n",
    "fatuus@ubuntu22:~/advanced-nlp/hw03$\n",
    "```"
   ]
  },
  {
   "cell_type": "markdown",
   "id": "59e81bf6-5a5b-4354-9213-df657a5fc021",
   "metadata": {},
   "source": [
    "### 1.4 Оценка на тестовой выборке\n",
    "```bash\n",
    "fatuus@ubuntu22:~/advanced-nlp/hw03$ ./ve/bin/python eval.py ./test/en-cs.en.test.tokens ./test/en-cs.cs.test.lemmas ./test/en-cs.wa.test ./mdl01.test.wa\n",
    "recall 0.486; precision 0.510; aer 0.502\n",
    "fatuus@ubuntu22:~/advanced-nlp/hw03$\n",
    "```"
   ]
  },
  {
   "cell_type": "markdown",
   "id": "7b365e59-a971-45d8-b87c-b7925cd57937",
   "metadata": {
    "jp-MarkdownHeadingCollapsed": true
   },
   "source": [
    "## Часть 2. Улучшение №1\n",
    "В данном улучшении была провелена работа с леммами. Поскольку для английского языка не было заготовлено лемм, то было решено формировать их самостоятельно. Только было решено использовать стеммер, вместо лемматизатора, так как ангилийский язык не очень богат на формы слов по сравнению, например, с русским языком. А именно, использовался SnowBall Stemmer."
   ]
  },
  {
   "cell_type": "markdown",
   "id": "71dcf2b3-ccee-4361-ad21-f61344a907b3",
   "metadata": {
    "jp-MarkdownHeadingCollapsed": true
   },
   "source": [
    "### 2.1 Файлы\n",
    "\n",
    "Файлы первого улучшения модели:  \n",
    "- [../model_v02/models.py](../model_v02/models.py)\n",
    "- [../model_v02/word_alignment.py](../model_v02/word_alignment.py)\n",
    "- [../model_v02/README.MD](../model_v02/README.MD)\n"
   ]
  },
  {
   "cell_type": "markdown",
   "id": "df247067-fbef-435b-a608-6a3196013208",
   "metadata": {
    "jp-MarkdownHeadingCollapsed": true
   },
   "source": [
    "### 2.2 Обучение\n",
    "```bash\n",
    "fatuus@ubuntu22:~/advanced-nlp/hw03$ ve/bin/python ./model_v02/word_alignment.py training/en-cs.en.all.tokens.10K training/en-cs.cs.all.lemmas.10K 20 mdl02\n",
    "corpus log likelihood: -1101394.999\n",
    "corpus log likelihood: -895863.243\n",
    "corpus log likelihood: -785560.353\n",
    "corpus log likelihood: -743353.593\n",
    "corpus log likelihood: -726944.618\n",
    "corpus log likelihood: -719690.519\n",
    "corpus log likelihood: -715946.795\n",
    "corpus log likelihood: -713775.479\n",
    "corpus log likelihood: -712412.707\n",
    "corpus log likelihood: -711509.262\n",
    "corpus log likelihood: -710876.240\n",
    "corpus log likelihood: -710413.269\n",
    "corpus log likelihood: -710063.579\n",
    "corpus log likelihood: -709794.194\n",
    "corpus log likelihood: -709583.137\n",
    "corpus log likelihood: -709416.282\n",
    "corpus log likelihood: -709281.957\n",
    "corpus log likelihood: -709170.528\n",
    "corpus log likelihood: -709075.956\n",
    "fatuus@ubuntu22:~/advanced-nlp/hw03$\n",
    "```"
   ]
  },
  {
   "cell_type": "markdown",
   "id": "13276b5f-d956-43ab-a184-cedbd7b51404",
   "metadata": {},
   "source": [
    "### 2.3 Оценка на обучающей выборке\n",
    "```bash\n",
    "fatuus@ubuntu22:~/advanced-nlp/hw03$ ./ve/bin/python eval.py ./test/en-cs.en.dev.tokens ./test/en-cs.cs.dev.lemmas ./test/en-cs.wa.dev ./mdl02.dev.wa\n",
    "recall 0.557; precision 0.590; aer 0.427\n",
    "fatuus@ubuntu22:~/advanced-nlp/hw03$\n",
    "```"
   ]
  },
  {
   "cell_type": "markdown",
   "id": "318e3223-3ab3-4846-8281-b3556419762e",
   "metadata": {},
   "source": [
    "### 2.4 Оценка на тестовой выборке\n",
    "```bash\n",
    "fatuus@ubuntu22:~/advanced-nlp/hw03$ ./ve/bin/python eval.py ./test/en-cs.en.test.tokens ./test/en-cs.cs.test.lemmas ./test/en-cs.wa.test ./mdl02.test.wa\n",
    "recall 0.585; precision 0.599; aer 0.408\n",
    "fatuus@ubuntu22:~/advanced-nlp/hw03$\n",
    "```"
   ]
  },
  {
   "cell_type": "markdown",
   "id": "ca4150d7-88e7-4fb9-8c10-778af9430fd2",
   "metadata": {
    "jp-MarkdownHeadingCollapsed": true
   },
   "source": [
    "## Часть 3. Улучшение №2\n",
    "Проверка даст ли приведение к одному регистру прирост в качестве обучения."
   ]
  },
  {
   "cell_type": "markdown",
   "id": "97a4f9af-84db-43ba-b51b-18b7b3a409e7",
   "metadata": {},
   "source": [
    "### 3.1 Файлы\n",
    "Файлы первого улучшения модели:  \n",
    "- [../model_v03/models.py](../model_v03/models.py)\n",
    "- [../model_v03/word_alignment.py](../model_v03/word_alignment.py)\n",
    "- [../model_v03/README.MD](../model_v03/README.MD)\n"
   ]
  },
  {
   "cell_type": "markdown",
   "id": "c1b625e0-81b3-4d9a-95af-1d09e068857c",
   "metadata": {},
   "source": [
    "### 3.2 Обучение\n",
    "```bash\n",
    "fatuus@ubuntu22:~/advanced-nlp/hw03$ ./ve/bin/python ./model_v03/word_alignment.py training/en-cs.en.all.tokens.10K training/en-cs.cs.all.lemmas.10K 20 mdl03\n",
    "corpus log likelihood: -1101136.791\n",
    "corpus log likelihood: -895516.247\n",
    "corpus log likelihood: -785204.753\n",
    "corpus log likelihood: -743021.621\n",
    "corpus log likelihood: -726629.020\n",
    "corpus log likelihood: -719384.221\n",
    "corpus log likelihood: -715645.225\n",
    "corpus log likelihood: -713476.550\n",
    "corpus log likelihood: -712115.401\n",
    "corpus log likelihood: -711212.955\n",
    "corpus log likelihood: -710581.033\n",
    "corpus log likelihood: -710118.892\n",
    "corpus log likelihood: -709769.763\n",
    "corpus log likelihood: -709500.930\n",
    "corpus log likelihood: -709290.302\n",
    "corpus log likelihood: -709123.645\n",
    "corpus log likelihood: -708989.453\n",
    "corpus log likelihood: -708878.250\n",
    "corpus log likelihood: -708783.848\n",
    "fatuus@ubuntu22:~/advanced-nlp/hw03$\n",
    "```"
   ]
  },
  {
   "cell_type": "markdown",
   "id": "824c4dd5-905c-42ae-9ce7-f1c910718543",
   "metadata": {},
   "source": [
    "### Оценка на обучающей выборке\n",
    "```bash\n",
    "fatuus@ubuntu22:~/advanced-nlp/hw03$ ./ve/bin/python eval.py ./test/en-cs.en.dev.tokens ./test/en-cs.cs.dev.lemmas ./test/en-cs.wa.dev ./mdl03.dev.wa\n",
    "recall 0.557; precision 0.591; aer 0.426\n",
    "fatuus@ubuntu22:~/advanced-nlp/hw03$\n",
    "```"
   ]
  },
  {
   "cell_type": "markdown",
   "id": "97635cc1-3e9f-44ac-ab16-2f547bfa2ac1",
   "metadata": {},
   "source": [
    "### Оценка на тестовой выборке\n",
    "```bash\n",
    "fatuus@ubuntu22:~/advanced-nlp/hw03$ ./ve/bin/python eval.py ./test/en-cs.en.test.tokens ./test/en-cs.cs.test.lemmas ./test/en-cs.wa.test ./mdl03.test.wa\n",
    "recall 0.586; precision 0.599; aer 0.407\n",
    "fatuus@ubuntu22:~/advanced-nlp/hw03$\n",
    "```"
   ]
  },
  {
   "cell_type": "markdown",
   "id": "e36d16db-8152-49cf-ae75-e73cbe5d977c",
   "metadata": {
    "jp-MarkdownHeadingCollapsed": true
   },
   "source": [
    "# Заключение"
   ]
  },
  {
   "cell_type": "markdown",
   "id": "65aa2e32-baf2-48a4-aedb-08698d2818bb",
   "metadata": {},
   "source": [
    "### Бенчмарк\n",
    "\n",
    "<table>\n",
    "    <tr><th colspan=5>Выборка DEV</th></tr>\n",
    "    <tr>\n",
    "        <th>Модель</th>\n",
    "        <th>AER</th>\n",
    "        <th>Precision</th>\n",
    "        <th>Recall</th>\n",
    "        <th>Комментарий</th>\n",
    "    </tr>\n",
    "    <tr>\n",
    "        <th>model_v01</th>\n",
    "        <td>0.514</td>\n",
    "        <td>0.502</td>\n",
    "        <td>0.470</td>\n",
    "        <td>Базовая модель</td>\n",
    "    </tr>\n",
    "    <tr>\n",
    "        <th>model_v02</th>\n",
    "        <td>0.427</td>\n",
    "        <td>0.590</td>\n",
    "        <td>0.557</td>\n",
    "        <td>Улучшение №1</td>\n",
    "    </tr>\n",
    "    <tr>\n",
    "        <th>model_v03</th>\n",
    "        <td>0.426</td>\n",
    "        <td>0.591</td>\n",
    "        <td>0.557</td>\n",
    "        <td>Улучшение №2</td>\n",
    "    </tr>\n",
    "</table>\n",
    "\n",
    "\n",
    "\n",
    "<table>\n",
    "    <tr><th colspan=5>Выборка TEST</th></tr>\n",
    "    <tr>\n",
    "        <th>Модель</th>\n",
    "        <th>AER</th>\n",
    "        <th>Precision</th>\n",
    "        <th>Recall</th>\n",
    "        <th>Комментарий</th>\n",
    "    </tr>\n",
    "    <tr>\n",
    "        <th>model_v01</th>\n",
    "        <td>0.502</td>\n",
    "        <td>0.510</td>\n",
    "        <td>0.486</td>\n",
    "        <td>Базовая модель</td>\n",
    "    </tr>\n",
    "    <tr>\n",
    "        <th>model_v02</th>\n",
    "        <td>0.408</td>\n",
    "        <td>0.599</td>\n",
    "        <td>0.585</td>\n",
    "        <td>Улучшение №1</td>\n",
    "    </tr>\n",
    "    <tr>\n",
    "        <th>model_v03</th>\n",
    "        <td>0.407</td>\n",
    "        <td>0.599</td>\n",
    "        <td>0.586</td>\n",
    "        <td>Улучшение №2</td>\n",
    "    </tr>\n",
    "</table>"
   ]
  },
  {
   "cell_type": "markdown",
   "id": "90916856-5b35-4a45-b1c8-3751093163ba",
   "metadata": {},
   "source": [
    "### Выводы\n",
    "- Улучшение №1 (Использование начальной формы слов) значительно улучшило качество обучения модлелей по всем метрикам\n",
    "- Улучшение №2 (Приведение к одному регистру) уже не дает однозначного улучшения. И нужно проводить анализ ошибок для проверки этого улучшения."
   ]
  },
  {
   "cell_type": "code",
   "execution_count": null,
   "id": "2dcf233a-e300-4769-be3c-211ae8323181",
   "metadata": {},
   "outputs": [],
   "source": []
  }
 ],
 "metadata": {
  "kernelspec": {
   "display_name": "Python 3 (ipykernel)",
   "language": "python",
   "name": "python3"
  },
  "language_info": {
   "codemirror_mode": {
    "name": "ipython",
    "version": 3
   },
   "file_extension": ".py",
   "mimetype": "text/x-python",
   "name": "python",
   "nbconvert_exporter": "python",
   "pygments_lexer": "ipython3",
   "version": "3.8.18"
  }
 },
 "nbformat": 4,
 "nbformat_minor": 5
}
