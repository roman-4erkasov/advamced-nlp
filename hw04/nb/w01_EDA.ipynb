{
 "cells": [
  {
   "cell_type": "code",
   "execution_count": 23,
   "id": "95e3feae-e747-46c2-afd1-36c4e1764cb1",
   "metadata": {},
   "outputs": [],
   "source": [
    "import json\n",
    "import pandas as pd\n",
    "import matplotlib.pyplot as plt\n",
    "\n",
    "PATH_TRAIN = \"../data/train.jsonl\"\n",
    "PATH_TEST = \"../data/dev.jsonl\""
   ]
  },
  {
   "cell_type": "code",
   "execution_count": 18,
   "id": "d274c8ec-6302-424f-910e-1176c6310dfc",
   "metadata": {},
   "outputs": [],
   "source": [
    "def read_data(path):\n",
    "    records = []\n",
    "    with open(path) as fp:\n",
    "        for line in fp:\n",
    "            record = json.loads(line.strip())\n",
    "            records.append(record)\n",
    "    df = pd.DataFrame(records)\n",
    "    return df"
   ]
  },
  {
   "cell_type": "code",
   "execution_count": 16,
   "id": "38ff5fbc-883a-4d76-954e-ba6d7c5d06d9",
   "metadata": {},
   "outputs": [],
   "source": [
    "d_train = read_data(PATH_TRAIN)"
   ]
  },
  {
   "cell_type": "code",
   "execution_count": 21,
   "id": "72975a9b-2dea-48dd-b25d-28472c2dd9d0",
   "metadata": {},
   "outputs": [],
   "source": [
    "d_test = read_data(PATH_TEST)"
   ]
  },
  {
   "cell_type": "code",
   "execution_count": 43,
   "id": "d1916396-f0f0-42ee-bedf-9572b3267a42",
   "metadata": {},
   "outputs": [
    {
     "data": {
      "text/plain": [
       "'Persian (/ˈpɜːrʒən, -ʃən/), also known by its endonym Farsi (فارسی fārsi (fɒːɾˈsiː) ( listen)), is one of the Western Iranian languages within the Indo-Iranian branch of the Indo-European language family. It is primarily spoken in Iran, Afghanistan (officially known as Dari since 1958), and Tajikistan (officially known as Tajiki since the Soviet era), and some other regions which historically were Persianate societies and considered part of Greater Iran. It is written in the Persian alphabet, a modified variant of the Arabic script, which itself evolved from the Aramaic alphabet.'"
      ]
     },
     "execution_count": 43,
     "metadata": {},
     "output_type": "execute_result"
    }
   ],
   "source": [
    "d_train.passage[0]"
   ]
  },
  {
   "cell_type": "code",
   "execution_count": 31,
   "id": "627c9509-fc80-4599-b49e-341c0fb2d7dd",
   "metadata": {},
   "outputs": [
    {
     "data": {
      "text/plain": [
       "(0.6231038506417736, 0.48463425033934154)"
      ]
     },
     "execution_count": 31,
     "metadata": {},
     "output_type": "execute_result"
    }
   ],
   "source": [
    "d_train.answer.astype(int).mean(),d_train.answer.astype(int).std()"
   ]
  },
  {
   "cell_type": "code",
   "execution_count": 32,
   "id": "e3fa9373-0eeb-420a-9229-238d16945150",
   "metadata": {},
   "outputs": [
    {
     "data": {
      "text/plain": [
       "(0.6217125382262997, 0.4850340218806796)"
      ]
     },
     "execution_count": 32,
     "metadata": {},
     "output_type": "execute_result"
    }
   ],
   "source": [
    "d_test.answer.astype(int).mean(),d_test.answer.astype(int).std()"
   ]
  },
  {
   "cell_type": "code",
   "execution_count": 36,
   "id": "993e772e-128a-4e70-b000-32bb2bf1e995",
   "metadata": {},
   "outputs": [
    {
     "data": {
      "text/plain": [
       "(43.99193805028111, 8.854335436667068)"
      ]
     },
     "execution_count": 36,
     "metadata": {},
     "output_type": "execute_result"
    }
   ],
   "source": [
    "d_train.question.str.len().mean(), d_train.question.str.len().std()"
   ]
  },
  {
   "cell_type": "code",
   "execution_count": 37,
   "id": "c9e691cd-4867-4134-9250-f63ace575276",
   "metadata": {},
   "outputs": [
    {
     "data": {
      "text/plain": [
       "(43.206422018348626, 7.785705602424716)"
      ]
     },
     "execution_count": 37,
     "metadata": {},
     "output_type": "execute_result"
    }
   ],
   "source": [
    "d_test.question.str.len().mean(), d_test.question.str.len().std()"
   ]
  },
  {
   "cell_type": "code",
   "execution_count": 38,
   "id": "b7106382-10a4-4a55-8b61-83ee727b5eb4",
   "metadata": {},
   "outputs": [
    {
     "data": {
      "text/plain": [
       "(565.6130264134931, 323.1374979743294)"
      ]
     },
     "execution_count": 38,
     "metadata": {},
     "output_type": "execute_result"
    }
   ],
   "source": [
    "d_train.passage.str.len().mean(), d_train.passage.str.len().std()"
   ]
  },
  {
   "cell_type": "code",
   "execution_count": 39,
   "id": "28c6e50c-6b33-4eaa-95f3-9790edf30b77",
   "metadata": {},
   "outputs": [
    {
     "data": {
      "text/plain": [
       "(559.0522935779817, 328.79604718080896)"
      ]
     },
     "execution_count": 39,
     "metadata": {},
     "output_type": "execute_result"
    }
   ],
   "source": [
    "d_test.passage.str.len().mean(), d_test.passage.str.len().std()"
   ]
  },
  {
   "cell_type": "code",
   "execution_count": null,
   "id": "589f8baa-76db-44de-832d-00bc14cb8fe2",
   "metadata": {},
   "outputs": [],
   "source": []
  }
 ],
 "metadata": {
  "kernelspec": {
   "display_name": "Python 3 (ipykernel)",
   "language": "python",
   "name": "python3"
  },
  "language_info": {
   "codemirror_mode": {
    "name": "ipython",
    "version": 3
   },
   "file_extension": ".py",
   "mimetype": "text/x-python",
   "name": "python",
   "nbconvert_exporter": "python",
   "pygments_lexer": "ipython3",
   "version": "3.8.18"
  }
 },
 "nbformat": 4,
 "nbformat_minor": 5
}
