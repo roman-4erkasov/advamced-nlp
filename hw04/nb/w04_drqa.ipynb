{
 "cells": [
  {
   "cell_type": "code",
   "execution_count": 12,
   "id": "0cb7525d-6599-434f-ac58-32385ca99b6c",
   "metadata": {},
   "outputs": [],
   "source": [
    "from torch import nn\n",
    "import torch as th\n",
    "import torch"
   ]
  },
  {
   "cell_type": "code",
   "execution_count": 19,
   "id": "a746d0a1-c9be-4f7e-ae87-3746ab4ad8df",
   "metadata": {},
   "outputs": [],
   "source": [
    "class DrQAModel(nn.Module):\n",
    "\n",
    "    def __init__(self, emb_dim, hid_dim, n_layers, pos_emb_dim):\n",
    "        super().__init__()\n",
    "        self.pos_emb_dim = pos_emb_dim\n",
    "        self.emb_dim = emb_dim\n",
    "        self.hid_dim = hid_dim\n",
    "        self.n_layers = n_layers\n",
    "        self.p_rnn = nn.LSTM(self.emb_dim, self.hid_dim, self.n_layers)\n",
    "        self.q_rnn = nn.LSTM(self.emb_dim, self.hid_dim, self.n_layers)\n",
    "        self.p_pos_rnn = nn.LSTM(self.pos_emb_dim, self.hid_dim, self.n_layers)\n",
    "        self.q_pos_rnn = nn.LSTM(self.pos_emb_dim, self.hid_dim, self.n_layers)\n",
    "\n",
    "    def forward(self, src):\n",
    "        print(  \n",
    "            f\"{src['embedded_p'].shape=}, {src['embedded_q'].shape=}, \"\n",
    "            f\"{src['embedded_p_pos'].shape=}, {src['embedded_q_pos'].shape=} \"\n",
    "        )\n",
    "        output_p, (hidden_p, cell_p) = self.p_rnn(src['embedded_p'])\n",
    "        print(output_p.shape, hidden_p.shape, cell_p.shape)\n",
    "        output_q, (hidden_q, cell_q) = self.q_rnn(src['embedded_q'])        \n",
    "        print(output_q.shape, hidden_q.shape, cell_q.shape)\n",
    "        output_pos_p, (hidden_pos_p, cell_pos_p) = self.p_pos_rnn(src['embedded_p_pos'])\n",
    "        print(output_pos_p.shape, hidden_pos_p.shape, cell_pos_p.shape)\n",
    "        output_pos_q, (hidden_pos_q, cell_pos_q) = self.q_pos_rnn(src['embedded_q_pos'])\n",
    "        print(output_pos_q.shape, hidden_pos_q.shape, cell_pos_q.shape)\n",
    "        output = torch.cat((output_p, output_q, output_pos_p, output_pos_q),-1)\n",
    "        return output\n"
   ]
  },
  {
   "cell_type": "code",
   "execution_count": 20,
   "id": "47039e6f-28b9-4140-a44d-4362e9a03a7e",
   "metadata": {},
   "outputs": [],
   "source": [
    "emb_dim = 300\n",
    "pos_emb_dim = 37\n",
    "hid_dim = 128\n",
    "n_layers = 1"
   ]
  },
  {
   "cell_type": "code",
   "execution_count": 21,
   "id": "5b8ae1b0-45cd-43d3-a3c6-c6a44541d210",
   "metadata": {},
   "outputs": [],
   "source": [
    "model = DrQAModel(emb_dim, hid_dim, n_layers, pos_emb_dim)"
   ]
  },
  {
   "cell_type": "code",
   "execution_count": 22,
   "id": "ef3f4891-76d3-4268-9ea2-a32e2b6d5b1e",
   "metadata": {},
   "outputs": [],
   "source": [
    "rec = {\n",
    "    \"embedded_p\": th.zeros(7, 300),\n",
    "    \"embedded_q\": th.zeros(7, 300),\n",
    "    \"embedded_p_pos\": th.zeros(7, 37),\n",
    "    \"embedded_q_pos\": th.zeros(7, 37),\n",
    "}"
   ]
  },
  {
   "cell_type": "code",
   "execution_count": 23,
   "id": "812c00b4-e3fa-4fff-ba97-ee1fb7ee9bd1",
   "metadata": {},
   "outputs": [
    {
     "name": "stdout",
     "output_type": "stream",
     "text": [
      "src['embedded_p'].shape=torch.Size([7, 300]), src['embedded_q'].shape=torch.Size([7, 300]), src['embedded_p_pos'].shape=torch.Size([7, 37]), src['embedded_q_pos'].shape=torch.Size([7, 37]) \n",
      "torch.Size([7, 128]) torch.Size([1, 128]) torch.Size([1, 128])\n",
      "torch.Size([7, 128]) torch.Size([1, 128]) torch.Size([1, 128])\n",
      "torch.Size([7, 128]) torch.Size([1, 128]) torch.Size([1, 128])\n",
      "torch.Size([7, 128]) torch.Size([1, 128]) torch.Size([1, 128])\n"
     ]
    }
   ],
   "source": [
    "out = model(rec)"
   ]
  },
  {
   "cell_type": "code",
   "execution_count": 24,
   "id": "b564b1f7-3e77-46e8-b177-0b39f1e76283",
   "metadata": {},
   "outputs": [
    {
     "data": {
      "text/plain": [
       "torch.Size([7, 512])"
      ]
     },
     "execution_count": 24,
     "metadata": {},
     "output_type": "execute_result"
    }
   ],
   "source": [
    "out.shape"
   ]
  },
  {
   "cell_type": "code",
   "execution_count": null,
   "id": "caccc762-0c30-4026-bf4f-621bf871fd31",
   "metadata": {},
   "outputs": [],
   "source": []
  }
 ],
 "metadata": {
  "kernelspec": {
   "display_name": "Python 3 (ipykernel)",
   "language": "python",
   "name": "python3"
  },
  "language_info": {
   "codemirror_mode": {
    "name": "ipython",
    "version": 3
   },
   "file_extension": ".py",
   "mimetype": "text/x-python",
   "name": "python",
   "nbconvert_exporter": "python",
   "pygments_lexer": "ipython3",
   "version": "3.8.18"
  }
 },
 "nbformat": 4,
 "nbformat_minor": 5
}
