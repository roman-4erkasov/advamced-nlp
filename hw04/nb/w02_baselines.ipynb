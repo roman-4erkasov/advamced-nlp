{
 "cells": [
  {
   "cell_type": "markdown",
   "id": "28b1b496-1e5b-48c7-a71f-c69cf3d6137d",
   "metadata": {},
   "source": [
    "# Бейзлайны для задачи \"Question Answering for Yes/No-Questions\"\n",
    "\n",
    "Для оценки моделей воспользуемся следующими метриками:\n",
    "- AUROC\n",
    "- f1\n",
    "- precision\n",
    "- recall\n",
    "- accuracy"
   ]
  },
  {
   "cell_type": "code",
   "execution_count": 48,
   "id": "cda62be7-e198-4408-adf8-23c19651a4eb",
   "metadata": {},
   "outputs": [],
   "source": [
    "import json\n",
    "import gensim\n",
    "import numpy as np\n",
    "import pandas as pd\n",
    "import lightgbm as lgb\n",
    "import matplotlib.pyplot as plt\n",
    "from sklearn.metrics import (\n",
    "    roc_auc_score, \n",
    "    f1_score, \n",
    "    precision_score, \n",
    "    recall_score, \n",
    "    accuracy_score\n",
    ")\n",
    "\n",
    "PATH_TRAIN = \"../data/train.jsonl\"\n",
    "PATH_TEST = \"../data/dev.jsonl\"\n",
    "\n",
    "\n",
    "def read_data(path):\n",
    "    records = []\n",
    "    with open(path) as fp:\n",
    "        for line in fp:\n",
    "            record = json.loads(line.strip())\n",
    "            records.append(record)\n",
    "    df = pd.DataFrame(records)\n",
    "    return df\n"
   ]
  },
  {
   "cell_type": "code",
   "execution_count": 58,
   "id": "25eee16e-faa0-4265-af42-e1b97be4c16c",
   "metadata": {},
   "outputs": [],
   "source": [
    "def get_scores(y_true, y_score, thr=0.5):\n",
    "    y_pred = (thr<y_score).astype(int)\n",
    "    auc = roc_auc_score(y_score=y_score, y_true=y_true)\n",
    "    f1 = f1_score(y_true=y_true, y_pred=y_pred)\n",
    "    prec = precision_score(y_true=y_true, y_pred=y_pred)\n",
    "    rec = recall_score(y_true=y_true, y_pred=y_pred)\n",
    "    acc = accuracy_score(y_true=y_true, y_pred=y_pred)\n",
    "    return {\n",
    "        \"auroc\": auc,\n",
    "        \"f1\": f1,\n",
    "        \"precision\": prec,\n",
    "        \"recall\": rec,\n",
    "        \"accuracy\": acc\n",
    "    }"
   ]
  },
  {
   "cell_type": "code",
   "execution_count": 3,
   "id": "e79d6991-351b-4ded-9289-848e3432e33a",
   "metadata": {},
   "outputs": [],
   "source": [
    "d_train = read_data(PATH_TRAIN)\n",
    "d_test = read_data(PATH_TEST)\n"
   ]
  },
  {
   "cell_type": "markdown",
   "id": "bf98639b-2db9-4159-82a4-a9407af07e21",
   "metadata": {},
   "source": [
    "# Бейзлайн 1: Наиболее частый ответ"
   ]
  },
  {
   "cell_type": "code",
   "execution_count": null,
   "id": "16d438d3-7bfb-4df2-9099-760f06d438e0",
   "metadata": {},
   "outputs": [],
   "source": [
    "ans_train = d_train.answer.mode().values.item()\n",
    "ans_test = d_test.answer.mode().values.item()\n",
    "print(f\"{ans_train=}, {ans_test=}\")\n",
    "p_train = np.array([ans_train for i in range(d_train.shape[0])])\n",
    "p_test = np.array([ans_test for i in range(d_test.shape[0])])\n"
   ]
  },
  {
   "cell_type": "code",
   "execution_count": 69,
   "id": "c576e565-c726-44be-aa44-64a6c432472f",
   "metadata": {},
   "outputs": [
    {
     "data": {
      "text/plain": [
       "{'auroc': 0.5,\n",
       " 'f1': 0.7677929547088426,\n",
       " 'precision': 0.6231038506417736,\n",
       " 'recall': 1.0,\n",
       " 'accuracy': 0.6231038506417736}"
      ]
     },
     "execution_count": 69,
     "metadata": {},
     "output_type": "execute_result"
    }
   ],
   "source": [
    "get_scores(y_true=d_train.answer.tolist(), y_score=p_train)"
   ]
  },
  {
   "cell_type": "code",
   "execution_count": 71,
   "id": "5d75d51b-4b9b-49bd-b723-aec242c94c70",
   "metadata": {},
   "outputs": [
    {
     "data": {
      "text/plain": [
       "{'auroc': 0.5,\n",
       " 'f1': 0.7667358099189139,\n",
       " 'precision': 0.6217125382262997,\n",
       " 'recall': 1.0,\n",
       " 'accuracy': 0.6217125382262997}"
      ]
     },
     "execution_count": 71,
     "metadata": {},
     "output_type": "execute_result"
    }
   ],
   "source": [
    "get_scores(y_true=d_test.answer.tolist(), y_score=p_test)"
   ]
  },
  {
   "cell_type": "markdown",
   "id": "e9efe473-3d37-488d-b61b-9b2eb5315075",
   "metadata": {},
   "source": [
    "# Бейзлайн 2: средний ответ"
   ]
  },
  {
   "cell_type": "code",
   "execution_count": 73,
   "id": "ce00d9f3-b7fc-4fb2-9e69-c5d8e0b7fb95",
   "metadata": {},
   "outputs": [
    {
     "name": "stdout",
     "output_type": "stream",
     "text": [
      "ans_train=0.6231038506417736, ans_test=0.6217125382262997\n"
     ]
    }
   ],
   "source": [
    "ans_train = d_train.answer.mean().item()\n",
    "ans_test = d_test.answer.mean().item()\n",
    "print(f\"{ans_train=}, {ans_test=}\")\n",
    "\n",
    "p_train = np.array([ans_train for i in range(d_train.shape[0])])\n",
    "p_test = np.array([ans_test for i in range(d_test.shape[0])])"
   ]
  },
  {
   "cell_type": "code",
   "execution_count": 74,
   "id": "3da94d19-55e9-4442-952c-e1e9ca2b8c90",
   "metadata": {},
   "outputs": [
    {
     "data": {
      "text/plain": [
       "{'auroc': 0.5,\n",
       " 'f1': 0.7677929547088426,\n",
       " 'precision': 0.6231038506417736,\n",
       " 'recall': 1.0,\n",
       " 'accuracy': 0.6231038506417736}"
      ]
     },
     "execution_count": 74,
     "metadata": {},
     "output_type": "execute_result"
    }
   ],
   "source": [
    "get_scores(y_true=d_train.answer.tolist(), y_score=p_train)"
   ]
  },
  {
   "cell_type": "code",
   "execution_count": 75,
   "id": "d5b4c3b1-2b1f-4d4e-8388-9d268315398f",
   "metadata": {},
   "outputs": [
    {
     "data": {
      "text/plain": [
       "{'auroc': 0.5,\n",
       " 'f1': 0.7667358099189139,\n",
       " 'precision': 0.6217125382262997,\n",
       " 'recall': 1.0,\n",
       " 'accuracy': 0.6217125382262997}"
      ]
     },
     "execution_count": 75,
     "metadata": {},
     "output_type": "execute_result"
    }
   ],
   "source": [
    "get_scores(y_true=d_test.answer.tolist(), y_score=p_test)"
   ]
  },
  {
   "cell_type": "code",
   "execution_count": null,
   "id": "5979b438-94f0-4540-afbf-a3da6493a857",
   "metadata": {},
   "outputs": [],
   "source": []
  },
  {
   "cell_type": "markdown",
   "id": "ba22cc73-583f-44ca-bdd8-16e54050c34b",
   "metadata": {},
   "source": [
    "# Бейзлайн 3: FastText"
   ]
  },
  {
   "cell_type": "code",
   "execution_count": 25,
   "id": "02683976-960f-478b-b177-129a16892ce1",
   "metadata": {},
   "outputs": [],
   "source": [
    "model = gensim.models.fasttext.load_facebook_vectors(\"../data/cc.ru.300.bin\")"
   ]
  },
  {
   "cell_type": "code",
   "execution_count": null,
   "id": "0ed76edc-071c-41c2-afe5-1900fe998af3",
   "metadata": {},
   "outputs": [],
   "source": []
  },
  {
   "cell_type": "code",
   "execution_count": 76,
   "id": "88b2d9ea-e878-4d39-9c5d-d26de61a54e3",
   "metadata": {},
   "outputs": [],
   "source": [
    "d_train[\"tp\"] = d_train.question + \". \" + d_train.passage\n",
    "d_test[\"tp\"] = d_test.question + \". \" + d_test.passage\n",
    "tokens_train = d_train.tp.apply(lambda line: [x for x in gensim.utils.tokenize(line)]).tolist()\n",
    "tokens_test = d_test.tp.apply(lambda line: [x for x in gensim.utils.tokenize(line)]).tolist()"
   ]
  },
  {
   "cell_type": "code",
   "execution_count": 77,
   "id": "9ca87455-9e9f-40a2-9f52-d0f8dcda70d2",
   "metadata": {},
   "outputs": [],
   "source": [
    "x_train = np.array(\n",
    "    [model.get_mean_vector(tokens).tolist() for tokens in tokens_train]\n",
    ")\n"
   ]
  },
  {
   "cell_type": "code",
   "execution_count": 78,
   "id": "6e956d97-0d3d-447e-badb-97034c434887",
   "metadata": {},
   "outputs": [],
   "source": [
    "x_test =  np.array(\n",
    "    [model.get_mean_vector(tokens).tolist() for tokens in tokens_test]\n",
    ")\n"
   ]
  },
  {
   "cell_type": "code",
   "execution_count": 79,
   "id": "0e083fc2-a3fa-45f4-8246-bd352ef3d615",
   "metadata": {},
   "outputs": [
    {
     "data": {
      "text/plain": [
       "(9427, 3270)"
      ]
     },
     "execution_count": 79,
     "metadata": {},
     "output_type": "execute_result"
    }
   ],
   "source": [
    "len(x_train), len(x_test)"
   ]
  },
  {
   "cell_type": "code",
   "execution_count": 101,
   "id": "f0da7803-ce15-466a-9d74-9f2007e4e88a",
   "metadata": {},
   "outputs": [
    {
     "name": "stdout",
     "output_type": "stream",
     "text": [
      "[LightGBM] [Info] Number of positive: 5874, number of negative: 3553\n",
      "[LightGBM] [Info] Auto-choosing col-wise multi-threading, the overhead of testing was 0.009960 seconds.\n",
      "You can set `force_col_wise=true` to remove the overhead.\n",
      "[LightGBM] [Info] Total Bins 76500\n",
      "[LightGBM] [Info] Number of data points in the train set: 9427, number of used features: 300\n",
      "[LightGBM] [Info] [binary:BoostFromScore]: pavg=0.623104 -> initscore=0.502744\n",
      "[LightGBM] [Info] Start training from score 0.502744\n"
     ]
    },
    {
     "data": {
      "text/html": [
       "<style>#sk-container-id-9 {color: black;}#sk-container-id-9 pre{padding: 0;}#sk-container-id-9 div.sk-toggleable {background-color: white;}#sk-container-id-9 label.sk-toggleable__label {cursor: pointer;display: block;width: 100%;margin-bottom: 0;padding: 0.3em;box-sizing: border-box;text-align: center;}#sk-container-id-9 label.sk-toggleable__label-arrow:before {content: \"▸\";float: left;margin-right: 0.25em;color: #696969;}#sk-container-id-9 label.sk-toggleable__label-arrow:hover:before {color: black;}#sk-container-id-9 div.sk-estimator:hover label.sk-toggleable__label-arrow:before {color: black;}#sk-container-id-9 div.sk-toggleable__content {max-height: 0;max-width: 0;overflow: hidden;text-align: left;background-color: #f0f8ff;}#sk-container-id-9 div.sk-toggleable__content pre {margin: 0.2em;color: black;border-radius: 0.25em;background-color: #f0f8ff;}#sk-container-id-9 input.sk-toggleable__control:checked~div.sk-toggleable__content {max-height: 200px;max-width: 100%;overflow: auto;}#sk-container-id-9 input.sk-toggleable__control:checked~label.sk-toggleable__label-arrow:before {content: \"▾\";}#sk-container-id-9 div.sk-estimator input.sk-toggleable__control:checked~label.sk-toggleable__label {background-color: #d4ebff;}#sk-container-id-9 div.sk-label input.sk-toggleable__control:checked~label.sk-toggleable__label {background-color: #d4ebff;}#sk-container-id-9 input.sk-hidden--visually {border: 0;clip: rect(1px 1px 1px 1px);clip: rect(1px, 1px, 1px, 1px);height: 1px;margin: -1px;overflow: hidden;padding: 0;position: absolute;width: 1px;}#sk-container-id-9 div.sk-estimator {font-family: monospace;background-color: #f0f8ff;border: 1px dotted black;border-radius: 0.25em;box-sizing: border-box;margin-bottom: 0.5em;}#sk-container-id-9 div.sk-estimator:hover {background-color: #d4ebff;}#sk-container-id-9 div.sk-parallel-item::after {content: \"\";width: 100%;border-bottom: 1px solid gray;flex-grow: 1;}#sk-container-id-9 div.sk-label:hover label.sk-toggleable__label {background-color: #d4ebff;}#sk-container-id-9 div.sk-serial::before {content: \"\";position: absolute;border-left: 1px solid gray;box-sizing: border-box;top: 0;bottom: 0;left: 50%;z-index: 0;}#sk-container-id-9 div.sk-serial {display: flex;flex-direction: column;align-items: center;background-color: white;padding-right: 0.2em;padding-left: 0.2em;position: relative;}#sk-container-id-9 div.sk-item {position: relative;z-index: 1;}#sk-container-id-9 div.sk-parallel {display: flex;align-items: stretch;justify-content: center;background-color: white;position: relative;}#sk-container-id-9 div.sk-item::before, #sk-container-id-9 div.sk-parallel-item::before {content: \"\";position: absolute;border-left: 1px solid gray;box-sizing: border-box;top: 0;bottom: 0;left: 50%;z-index: -1;}#sk-container-id-9 div.sk-parallel-item {display: flex;flex-direction: column;z-index: 1;position: relative;background-color: white;}#sk-container-id-9 div.sk-parallel-item:first-child::after {align-self: flex-end;width: 50%;}#sk-container-id-9 div.sk-parallel-item:last-child::after {align-self: flex-start;width: 50%;}#sk-container-id-9 div.sk-parallel-item:only-child::after {width: 0;}#sk-container-id-9 div.sk-dashed-wrapped {border: 1px dashed gray;margin: 0 0.4em 0.5em 0.4em;box-sizing: border-box;padding-bottom: 0.4em;background-color: white;}#sk-container-id-9 div.sk-label label {font-family: monospace;font-weight: bold;display: inline-block;line-height: 1.2em;}#sk-container-id-9 div.sk-label-container {text-align: center;}#sk-container-id-9 div.sk-container {/* jupyter's `normalize.less` sets `[hidden] { display: none; }` but bootstrap.min.css set `[hidden] { display: none !important; }` so we also need the `!important` here to be able to override the default hidden behavior on the sphinx rendered scikit-learn.org. See: https://github.com/scikit-learn/scikit-learn/issues/21755 */display: inline-block !important;position: relative;}#sk-container-id-9 div.sk-text-repr-fallback {display: none;}</style><div id=\"sk-container-id-9\" class=\"sk-top-container\"><div class=\"sk-text-repr-fallback\"><pre>LGBMClassifier(min_child_samples=8)</pre><b>In a Jupyter environment, please rerun this cell to show the HTML representation or trust the notebook. <br />On GitHub, the HTML representation is unable to render, please try loading this page with nbviewer.org.</b></div><div class=\"sk-container\" hidden><div class=\"sk-item\"><div class=\"sk-estimator sk-toggleable\"><input class=\"sk-toggleable__control sk-hidden--visually\" id=\"sk-estimator-id-9\" type=\"checkbox\" checked><label for=\"sk-estimator-id-9\" class=\"sk-toggleable__label sk-toggleable__label-arrow\">LGBMClassifier</label><div class=\"sk-toggleable__content\"><pre>LGBMClassifier(min_child_samples=8)</pre></div></div></div></div></div>"
      ],
      "text/plain": [
       "LGBMClassifier(min_child_samples=8)"
      ]
     },
     "execution_count": 101,
     "metadata": {},
     "output_type": "execute_result"
    }
   ],
   "source": [
    "\n",
    "# params = dict(min_child_samples=10) # 0.7706774951912803\n",
    "params = dict(min_child_samples=8) # 0.7706774951912803\n",
    "\n",
    "est = lgb.LGBMClassifier(\n",
    "    **params\n",
    ")\n",
    "est.fit(x_train, d_train.answer.values)\n"
   ]
  },
  {
   "cell_type": "code",
   "execution_count": 102,
   "id": "5b02d789-5183-4539-97d4-23b86b56e465",
   "metadata": {},
   "outputs": [
    {
     "data": {
      "text/plain": [
       "{'auroc': 0.9948531939277219,\n",
       " 'f1': 0.9497360941940722,\n",
       " 'precision': 0.9079335506908865,\n",
       " 'recall': 0.9955737146748382,\n",
       " 'accuracy': 0.9343375411053357}"
      ]
     },
     "execution_count": 102,
     "metadata": {},
     "output_type": "execute_result"
    }
   ],
   "source": [
    "get_scores(\n",
    "    y_true=d_train.answer.values,\n",
    "    y_score=est.predict_proba(x_train)[:,1]\n",
    ")\n"
   ]
  },
  {
   "cell_type": "code",
   "execution_count": 103,
   "id": "7f78ef15-d3ce-4773-8067-1c76bbca5dc2",
   "metadata": {},
   "outputs": [
    {
     "data": {
      "text/plain": [
       "{'auroc': 0.6582806490004656,\n",
       " 'f1': 0.7660297239915074,\n",
       " 'precision': 0.673888681359731,\n",
       " 'recall': 0.8873585833743236,\n",
       " 'accuracy': 0.6629969418960244}"
      ]
     },
     "execution_count": 103,
     "metadata": {},
     "output_type": "execute_result"
    }
   ],
   "source": [
    "get_scores(\n",
    "    y_true=d_test.answer.values,\n",
    "    y_score=est.predict_proba(x_test)[:,1]\n",
    ")\n"
   ]
  },
  {
   "cell_type": "code",
   "execution_count": null,
   "id": "0a413d8e-ca76-4194-a62e-f5ad437270a0",
   "metadata": {},
   "outputs": [],
   "source": []
  },
  {
   "cell_type": "code",
   "execution_count": null,
   "id": "93694196-9503-41ec-acaf-edac01730eaf",
   "metadata": {},
   "outputs": [],
   "source": []
  }
 ],
 "metadata": {
  "kernelspec": {
   "display_name": "Python 3 (ipykernel)",
   "language": "python",
   "name": "python3"
  },
  "language_info": {
   "codemirror_mode": {
    "name": "ipython",
    "version": 3
   },
   "file_extension": ".py",
   "mimetype": "text/x-python",
   "name": "python",
   "nbconvert_exporter": "python",
   "pygments_lexer": "ipython3",
   "version": "3.8.18"
  }
 },
 "nbformat": 4,
 "nbformat_minor": 5
}
